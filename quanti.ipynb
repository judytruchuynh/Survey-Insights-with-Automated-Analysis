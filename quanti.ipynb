{
 "cells": [
  {
   "cell_type": "code",
   "execution_count": null,
   "id": "7e676795",
   "metadata": {},
   "outputs": [],
   "source": [
    "import pandas as pd\n",
    "import matplotlib.pyplot as plt \n",
    "def prompt_and_create_dataframe():\n",
    "    file_name = input(\"Enter the name of the Excel file: \")\n",
    "    df_name = input(\"Enter the name of the DataFrame: \")\n",
    "    df = pd.read_excel(file_name)\n",
    "    globals()[df_name] = df\n",
    "    return df\n",
    "\n",
    "def print_column_order_and_names():\n",
    "    df_name = input(\"Enter the name of the DataFrame: \")\n",
    "    df = globals()[df_name]\n",
    "    print(\"Column Order:\")\n",
    "    for i, col in enumerate(df.columns):\n",
    "        print(f\"{i+1}: {col}\")\n",
    "def count_missing_values():\n",
    "    df_name = input(\"Enter the name of the DataFrame: \")\n",
    "    df = globals()[df_name]\n",
    "    missing_values_df = pd.DataFrame({\n",
    "        'Missing': df.isna().sum(),\n",
    "        'Non-Missing': df.notna().sum()\n",
    "    }).sort_values(by='Missing', ascending=False)\n",
    "    pd.set_option('display.max_rows', None)\n",
    "    return missing_values_df\n",
    "\n",
    "# def drop_missing_values():\n",
    "#     df_name = input(\"Enter the name of the DataFrame: \")\n",
    "#     df = globals()[df_name]\n",
    "#     df = df.dropna()\n",
    "#     return df\n",
    "# drop_missing_values()\n",
    "\n",
    "def plot_frequency_distribution(): # mostly demographic\n",
    "    df_name = input(\"Enter DataFrame name: \")\n",
    "    column_name = input(\"Enter column name: \")\n",
    "    chart_name = input(\"Enter chart name: \")\n",
    "    df = globals()[df_name]\n",
    "    category_counts = df[column_name].value_counts()\n",
    "    fig, (ax1, ax2) = plt.subplots(nrows=1, ncols=2, figsize=(8, 4))\n",
    "    fig.tight_layout(pad=5.0)\n",
    "    ax1.bar(category_counts.index, category_counts.values)\n",
    "    ax1.set_ylabel('Number of respondents')\n",
    "    ax1.set_title(chart_name)\n",
    "    for i, v in enumerate(category_counts.values):\n",
    "        ax1.text(i, v+0.2, str(v), ha='center')\n",
    "    ax1.tick_params(axis='x', rotation=90)\n",
    "    wedges, _, autotexts = ax2.pie(category_counts.values, labels=None, autopct='%1.1f%%', startangle=90)\n",
    "    ax2.set_title(chart_name)\n",
    "    ax2.legend(wedges, category_counts.index, title='Categories', loc='center left', bbox_to_anchor=(1, 0.5))\n",
    "    ax2.set_xlabel('Percentage of respondents')\n",
    "    ax1.set_ylim(0, category_counts.values.max() * 1.1)\n",
    "    for autotext in autotexts:\n",
    "        autotext.set_color('white')\n",
    "    plt.savefig(\"Chart of \" + chart_name + '.png', bbox_inches='tight')\n",
    "    count_df = pd.DataFrame(category_counts).reset_index()\n",
    "    count_df.columns = ['Category', 'Count']\n",
    "    print(\"\\nDataFrame for Count:\")\n",
    "    display(count_df)\n",
    "    plt.show()\n",
    "\n",
    "def create_selected_df(original_df, column_range, new_df_name):\n",
    "    selected_df = original_df.iloc[:, column_range]\n",
    "    globals()[new_df_name] = selected_df\n",
    "    return selected_df\n",
    "def prompt_and_create_df():\n",
    "    original_df_name = input(\"Enter the name of the original DataFrame: \")\n",
    "    column_range_input = input(\"Enter the range of columns to select (e.g., 23-42): \")\n",
    "    start_column, end_column = map(int, column_range_input.split('-'))\n",
    "    column_range = slice(start_column - 1, end_column)  # Adjusting for 0-based indexing\n",
    "    new_df_name = input(\"Enter the name of the new DataFrame: \")\n",
    "    selected_df = create_selected_df(globals()[original_df_name], column_range, new_df_name)\n",
    "    return selected_df\n",
    "\n",
    "\n",
    "def remove_first_words():\n",
    "    df_name = input(\"Enter the name of the DataFrame: \")\n",
    "    num_words = int(input(\"Enter the number of words to remove from each column name: \"))\n",
    "    df = globals()[df_name]\n",
    "    new_columns = []\n",
    "    for column_name in df.columns:\n",
    "        words = column_name.split()\n",
    "        new_name = ' '.join(words[num_words:])\n",
    "        new_columns.append(new_name)\n",
    "    df.columns = new_columns\n",
    "    return df\n",
    "\n",
    "\n",
    "def generate_response_counts():\n",
    "    # Prompt the user to enter the name of the DataFrame\n",
    "    df_name = input(\"Enter the name of the DataFrame: \")\n",
    "    df_selected = globals()[df_name]\n",
    "    counts_dict = {}\n",
    "    for col in df_selected.columns:\n",
    "        counts_dict[col] = df_selected[col].value_counts(dropna=False)\n",
    "    df_counts = pd.DataFrame.from_dict(counts_dict)\n",
    "    df_counts.fillna(0, inplace=True)\n",
    "    df_counts = df_counts.transpose()\n",
    "    df_counts.index.name = 'Questions'\n",
    "    new_df_name = input(\"Enter the name for the returned DataFrame: \")\n",
    "    globals()[new_df_name] = df_counts\n",
    "    return df_counts\n",
    "\n",
    "\n",
    "def rename_columns():\n",
    "    df_name = input(\"Enter the name of the DataFrame: \")\n",
    "    df = globals()[df_name]\n",
    "    num_columns = int(input(\"Enter the number of columns you want to replace: \"))\n",
    "    column_replacements = {}\n",
    "    for i in range(num_columns):\n",
    "        current_column = input(f\"Enter the name of column {i+1}: \")\n",
    "        replacement_name = input(f\"Enter the replacement name for column: {current_column}: \")\n",
    "        column_replacements[current_column] = replacement_name\n",
    "    df.rename(columns=column_replacements, inplace=True)\n",
    "    return df\n",
    "\n",
    "def reorder_columns():\n",
    "    df_name = input(\"Enter the name of the DataFrame: \")\n",
    "    df = globals()[df_name]\n",
    "    desired_order = input(\"Enter the names of columns in the desired order separated by commas: \").split(',')\n",
    "    df = df.reindex(columns=desired_order)\n",
    "    globals()[df_name] = df  # Reassign the reordered DataFrame back to the original DataFrame\n",
    "    return df\n",
    "\n",
    "# def sort_dataframe():\n",
    "#     df_name = input(\"Enter the name of the DataFrame: \")\n",
    "#     df = globals()[df_name]\n",
    "#     sort_column = input(\"Enter the name of the column to sort by: \")\n",
    "#     sorted_df = df.sort_values(by=sort_column)\n",
    "#     return sorted_df\n",
    "# sort_dataframe()\n",
    "\n",
    "\n",
    "import matplotlib.pyplot as plt\n",
    "def generate_stacked_horizontal_bar_plot():\n",
    "    df_name = input(\"Enter the name of the DataFrame: \")\n",
    "    dataframe = globals()[df_name]\n",
    "    title = input(\"Enter the title of the chart: \")\n",
    "    x_label = \"Number of Respondents\"\n",
    "    y_label = \"Answers\"\n",
    "    num_columns = len(dataframe.columns)\n",
    "    num_bars = len(dataframe.index)\n",
    "    figsize_height = num_bars * 0.5\n",
    "    fig, ax = plt.subplots(figsize=(10, figsize_height))\n",
    "    dataframe.plot.barh(stacked=True, ax=ax)\n",
    "    ax.set_title(title)\n",
    "    ax.set_xlabel(x_label)\n",
    "    ax.set_ylabel(y_label)\n",
    "    legend_position = 'lower center'\n",
    "    if figsize_height < 3:\n",
    "        legend_position = 'center'\n",
    "    legend_labels = ax.legend(loc=legend_position, bbox_to_anchor=(0.5, -8/num_bars), ncol=num_columns).get_texts()\n",
    "    ncol = len(legend_labels) // 2\n",
    "    ax.legend(loc=legend_position, bbox_to_anchor=(0.5, -3/num_bars), ncol=ncol)\n",
    "    for patch in ax.patches:\n",
    "        width = patch.get_width()\n",
    "        height = patch.get_height()\n",
    "        x = patch.get_x()\n",
    "        y = patch.get_y()\n",
    "        ax.text(x + width / 2, y + height / 2, str(int(width)), ha='center', va='center', color='white')\n",
    "    plt.savefig(\"Chart of \" + title + '.png', bbox_inches='tight')\n",
    "    plt.show()\n",
    "    \n",
    "def generate_percentage_table():\n",
    "    dataframe_name = input(\"Enter the name of the DataFrame: \")\n",
    "    dataframe = globals()[dataframe_name]\n",
    "    dataframe_percent = dataframe.div(dataframe.sum(axis=1), axis=0) * 100\n",
    "    dataframe_percent = dataframe_percent.round(2)\n",
    "    new_dataframe_name = input(\"Enter the name for the new DataFrame: \")\n",
    "    globals()[new_dataframe_name] = dataframe_percent  # Assign the new DataFrame to a variable name provided by the user\n",
    "    return dataframe_percent\n",
    "\n",
    "\n",
    "def calculate_statistics():\n",
    "    df_name = input(\"Enter the name of the DataFrame: \")\n",
    "    df = globals()[df_name]\n",
    "    df['N'] = df.iloc[:, :].sum(axis=1)\n",
    "    df['Mean'] = df.apply(lambda row: round((row[1]*1 + row[2]*2 + row[3]*3 + row[4]*4 + row[5]*5) / row['N'], 2), axis=1)\n",
    "    df['SD'] = df.apply(lambda row: round(((((1 - row['Mean'])**2 * row[1]) + \n",
    "                                            ((2 - row['Mean'])**2 * row[2]) + \n",
    "                                            ((3 - row['Mean'])**2 * row[3]) + \n",
    "                                            ((4 - row['Mean'])**2 * row[4]) + \n",
    "                                            ((5 - row['Mean'])**2 * row[5])) / row['N']) ** 0.5, 2), axis=1)\n",
    "    return df"
   ]
  },
  {
   "cell_type": "code",
   "execution_count": null,
   "id": "1464b0ec",
   "metadata": {},
   "outputs": [],
   "source": [
    "prompt_and_create_dataframe()\n",
    "#Education_June.xlsx"
   ]
  },
  {
   "cell_type": "code",
   "execution_count": null,
   "id": "7b9d3851",
   "metadata": {},
   "outputs": [],
   "source": [
    "print_column_order_and_names()"
   ]
  },
  {
   "cell_type": "code",
   "execution_count": null,
   "id": "1e22f8d2",
   "metadata": {},
   "outputs": [],
   "source": [
    "count_missing_values()"
   ]
  },
  {
   "cell_type": "code",
   "execution_count": null,
   "id": "eddefa6d",
   "metadata": {},
   "outputs": [],
   "source": [
    "plot_frequency_distribution()"
   ]
  },
  {
   "cell_type": "code",
   "execution_count": null,
   "id": "d2f042a3",
   "metadata": {},
   "outputs": [],
   "source": [
    "prompt_and_create_df()"
   ]
  },
  {
   "cell_type": "code",
   "execution_count": null,
   "id": "ff146696",
   "metadata": {},
   "outputs": [],
   "source": [
    "remove_first_words() #15"
   ]
  },
  {
   "cell_type": "code",
   "execution_count": null,
   "id": "02f92cd4",
   "metadata": {
    "scrolled": true
   },
   "outputs": [],
   "source": [
    "generate_response_counts()\n",
    "# As a teacher, how great a source of stress are these factors to you?"
   ]
  },
  {
   "cell_type": "code",
   "execution_count": null,
   "id": "89906343",
   "metadata": {},
   "outputs": [],
   "source": [
    "rename_columns()"
   ]
  },
  {
   "cell_type": "code",
   "execution_count": null,
   "id": "c7356d26",
   "metadata": {},
   "outputs": [],
   "source": [
    "# No stress\n",
    "# A little stress   \n",
    "# Some stress\n",
    "# A lot of stress\n",
    "# Extreme stress"
   ]
  },
  {
   "cell_type": "code",
   "execution_count": null,
   "id": "a2747f78",
   "metadata": {},
   "outputs": [],
   "source": [
    "reorder_columns()"
   ]
  },
  {
   "cell_type": "code",
   "execution_count": null,
   "id": "ea7407b9",
   "metadata": {},
   "outputs": [],
   "source": [
    "generate_stacked_horizontal_bar_plot()"
   ]
  },
  {
   "cell_type": "code",
   "execution_count": null,
   "id": "668ab790",
   "metadata": {},
   "outputs": [],
   "source": [
    "generate_percentage_table()"
   ]
  },
  {
   "cell_type": "code",
   "execution_count": null,
   "id": "85939621",
   "metadata": {},
   "outputs": [],
   "source": [
    "calculate_statistics()"
   ]
  },
  {
   "cell_type": "code",
   "execution_count": null,
   "id": "fa3f494a",
   "metadata": {},
   "outputs": [],
   "source": []
  },
  {
   "cell_type": "code",
   "execution_count": null,
   "id": "5caf9604",
   "metadata": {},
   "outputs": [],
   "source": []
  },
  {
   "cell_type": "code",
   "execution_count": null,
   "id": "5bc735c0",
   "metadata": {},
   "outputs": [],
   "source": []
  },
  {
   "cell_type": "code",
   "execution_count": null,
   "id": "29e1e3c0",
   "metadata": {},
   "outputs": [],
   "source": []
  },
  {
   "cell_type": "markdown",
   "id": "6a680d5c",
   "metadata": {},
   "source": [
    "# When you experience stress, how effective do you find these coping actions?"
   ]
  },
  {
   "cell_type": "code",
   "execution_count": null,
   "id": "c2c3e600",
   "metadata": {},
   "outputs": [],
   "source": [
    "df_selected2 = df.iloc[:, 43:68]\n",
    "df_selected2"
   ]
  },
  {
   "cell_type": "code",
   "execution_count": null,
   "id": "8baedeb0",
   "metadata": {},
   "outputs": [],
   "source": [
    "# Function to move the first 10 words to the beginning of each column name\n",
    "def move_words2(column_name):\n",
    "    words = column_name.split()\n",
    "    first_words = ' '.join(words[13:])\n",
    "    return first_words\n"
   ]
  },
  {
   "cell_type": "markdown",
   "id": "53f64b40",
   "metadata": {},
   "source": [
    "# How effective would these actions by the school or the government be in reducing your stress?"
   ]
  },
  {
   "cell_type": "code",
   "execution_count": null,
   "id": "f2c8d9b7",
   "metadata": {},
   "outputs": [],
   "source": [
    "df_selected3 = df.iloc[:, 68:78]\n",
    "df_selected3\n"
   ]
  },
  {
   "cell_type": "code",
   "execution_count": null,
   "id": "2e769996",
   "metadata": {},
   "outputs": [],
   "source": [
    "# Function to move the first 10 words to the beginning of each column name\n",
    "def move_words3(column_name):\n",
    "    words = column_name.split()\n",
    "    first_words = ' '.join(words[17:])\n",
    "    return first_words\n"
   ]
  },
  {
   "cell_type": "code",
   "execution_count": null,
   "id": "8f6441a5",
   "metadata": {},
   "outputs": [],
   "source": []
  },
  {
   "cell_type": "code",
   "execution_count": null,
   "id": "241ee547",
   "metadata": {},
   "outputs": [],
   "source": []
  }
 ],
 "metadata": {
  "kernelspec": {
   "display_name": "Python 3 (ipykernel)",
   "language": "python",
   "name": "python3"
  },
  "language_info": {
   "codemirror_mode": {
    "name": "ipython",
    "version": 3
   },
   "file_extension": ".py",
   "mimetype": "text/x-python",
   "name": "python",
   "nbconvert_exporter": "python",
   "pygments_lexer": "ipython3",
   "version": "3.9.13"
  }
 },
 "nbformat": 4,
 "nbformat_minor": 5
}
