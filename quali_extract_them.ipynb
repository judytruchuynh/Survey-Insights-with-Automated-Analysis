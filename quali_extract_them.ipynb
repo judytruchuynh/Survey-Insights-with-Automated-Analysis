{
 "cells": [
  {
   "cell_type": "code",
   "execution_count": null,
   "id": "f39048b8",
   "metadata": {},
   "outputs": [],
   "source": [
    "import pandas as pd\n",
    "def prompt_and_create_dataframe():\n",
    "    file_name = input(\"Enter the name of the Excel file: \")\n",
    "    df_name = input(\"Enter the name of the DataFrame: \")\n",
    "    df = pd.read_excel(file_name)\n",
    "    globals()[df_name] = df\n",
    "    return df\n",
    "\n",
    "def generate_unique_codes():\n",
    "    df_name = input(\"Enter the name of the DataFrame: \")\n",
    "    df = globals()[df_name]\n",
    "    new_column_name = input(\"Enter the name of the ID column: \")\n",
    "    code_length = int(input(\"Enter the length of the ID: \"))\n",
    "    def generate_code(index):\n",
    "        return f\"{index+1:0{code_length}d}\"  # Zero-padding the index to ensure consistent length\n",
    "    df.insert(0, new_column_name, df.index.map(generate_code))\n",
    "    excel_file_name = input(\"Enter the name of the Excel file to save the DataFrame (include .xlsx extension): \")\n",
    "    df.to_excel(excel_file_name, index=False)\n",
    "    print(f\"DataFrame with IDs has been saved to '{excel_file_name}'.\")\n",
    "    \n",
    "def select_columns():\n",
    "    df_name = input(\"Enter the name of the DataFrame: \")\n",
    "    df = globals()[df_name]\n",
    "    column_names = df.columns.tolist()\n",
    "    print(\"Column Names:\")\n",
    "    for i, column_name in enumerate(column_names):\n",
    "        print(f\"{i+1}. {column_name}\")\n",
    "    selected_indices = input(\"Enter the order numbers of the columns you want to select, separated by commas: \").split(',')\n",
    "    selected_columns = [column_names[int(index) - 1] for index in selected_indices]\n",
    "    df = df[selected_columns]\n",
    "    new_df_name = input(\"Enter the name of the new DataFrame: \")\n",
    "    globals()[new_df_name] = df\n",
    "    return df\n",
    "\n",
    "def rename_columns():\n",
    "    df_name = input(\"Enter the name of the DataFrame: \")\n",
    "    df = globals()[df_name]\n",
    "    num_columns = int(input(\"Enter the number of columns you want to replace: \"))\n",
    "    column_replacements = {}\n",
    "    for i in range(num_columns):\n",
    "        current_column = input(f\"Enter the name of column {i+1}: \")\n",
    "        replacement_name = input(f\"Enter the replacement name for column: {current_column}: \")\n",
    "        column_replacements[current_column] = replacement_name\n",
    "    df.rename(columns=column_replacements, inplace=True)\n",
    "    return df\n",
    "\n",
    "def count_missing_values():\n",
    "    df_name = input(\"Enter the name of the DataFrame: \")\n",
    "    df = globals()[df_name]\n",
    "    return pd.DataFrame({\n",
    "        'Missing': df.isna().sum(),\n",
    "        'Non-Missing': df.notna().sum()\n",
    "    }).sort_values(by='Missing', ascending=False)\n",
    "\n",
    "def drop_missing_values():\n",
    "    df_name = input(\"Enter the name of the DataFrame: \")\n",
    "    df = globals()[df_name]\n",
    "    df = df.dropna()\n",
    "    return df\n",
    "\n",
    "from nltk.tokenize import word_tokenize\n",
    "from nltk.corpus import stopwords\n",
    "from nltk.probability import FreqDist\n",
    "\n",
    "def create_word_frequency_table():\n",
    "    df_name = input(\"Enter the name of the DataFrame: \")\n",
    "    df = globals()[df_name]\n",
    "    column_name = input(\"Enter the name of the column in the DataFrame: \")\n",
    "    if column_name in df.columns:\n",
    "        recommendations_list = df[column_name].tolist()\n",
    "        stop_words = set(stopwords.words('english'))\n",
    "        word_freq = FreqDist()\n",
    "        for text in recommendations_list:\n",
    "            if pd.isnull(text):\n",
    "                continue\n",
    "            tokens = word_tokenize(str(text).lower())  # Convert to lowercase string before tokenizing\n",
    "            tokens = [word for word in tokens if word.isalpha() and word not in stop_words]\n",
    "            word_freq.update(tokens)\n",
    "        sorted_word_freq_table = sorted(word_freq.items(), key=lambda x: x[1], reverse=True)\n",
    "        for word, frequency in sorted_word_freq_table:\n",
    "            print(word, frequency)\n",
    "    else:\n",
    "        print(\"Column '{}' does not exist in the DataFrame.\".format(column_name))\n",
    "        \n",
    "def split_sentences_to_cells():\n",
    "    # Prompt the user to enter the name of the DataFrame\n",
    "    df_name = input(\"Enter the name of the DataFrame: \")\n",
    "    df = globals()[df_name]\n",
    "    column_name = input(\"Enter the name of the column you want to split: \")\n",
    "    if column_name in df.columns:\n",
    "        new_rows = []\n",
    "        for index, row in df.iterrows():\n",
    "            if pd.isnull(row[column_name]):\n",
    "                continue\n",
    "            sentences = row[column_name].split('.')\n",
    "            for sentence in sentences:\n",
    "                new_row = row.copy()\n",
    "                new_row[column_name] = sentence.strip()  # Remove leading/trailing whitespaces\n",
    "                new_rows.append(new_row)\n",
    "        new_df = pd.DataFrame(new_rows)\n",
    "        new_df_name = input(\"Enter the name for the new DataFrame: \")\n",
    "        globals()[new_df_name] = new_df\n",
    "        return new_df\n",
    "    else:\n",
    "        print(\"Column '{}' does not exist in the DataFrame '{}'.\".format(column_name, df_name))\n",
    "        return None, None        \n",
    "\n",
    "def apply_filter():\n",
    "    def filter_dataframe(df):\n",
    "        column_name = input(\"Enter the name of the column to filter: \")\n",
    "        df = df.dropna(subset=[column_name])\n",
    "        num_themes = int(input(\"How many themes do you want to extract? \"))\n",
    "        themes = {}\n",
    "        for i in range(num_themes):\n",
    "            theme_name = input(f\"Enter the name of theme {i+1}: \")\n",
    "            related_words = input(\"Enter related words separated by commas: \").split(',')\n",
    "            themes[theme_name] = related_words\n",
    "        filtered_dataframes = {}\n",
    "        for theme_name, related_words in themes.items():\n",
    "            filtered_dataframes[theme_name] = df[df[column_name].str.contains('|'.join(related_words), case=False)]   \n",
    "        excel_file_name = input(\"Enter the name of the Excel file to save the filtered data (include .xlsx extension): \")\n",
    "        writer = pd.ExcelWriter(excel_file_name, engine='xlsxwriter')\n",
    "        for sheet_name, df in filtered_dataframes.items():\n",
    "            df.to_excel(writer, sheet_name=sheet_name, index=False)\n",
    "        writer.save()\n",
    "        print(f\"Excel file '{excel_file_name}' has been created with filtered dataframes.\")\n",
    "    dataframe_name = input(\"Enter the name of your DataFrame: \")\n",
    "    df = globals()[dataframe_name]\n",
    "    filter_dataframe(df)    \n",
    "        \n"
   ]
  },
  {
   "cell_type": "code",
   "execution_count": null,
   "id": "c0369ed4",
   "metadata": {},
   "outputs": [],
   "source": [
    "\n",
    "generate_unique_codes()"
   ]
  },
  {
   "cell_type": "code",
   "execution_count": null,
   "id": "4157bef2",
   "metadata": {},
   "outputs": [],
   "source": [
    "\n",
    "select_columns()"
   ]
  },
  {
   "cell_type": "code",
   "execution_count": null,
   "id": "530b7df1",
   "metadata": {},
   "outputs": [],
   "source": [
    "\n",
    "rename_columns()"
   ]
  },
  {
   "cell_type": "code",
   "execution_count": null,
   "id": "5098eb68",
   "metadata": {},
   "outputs": [],
   "source": [
    "\n",
    "count_missing_values()"
   ]
  },
  {
   "cell_type": "code",
   "execution_count": null,
   "id": "7ebfcb3c",
   "metadata": {},
   "outputs": [],
   "source": [
    "\n",
    "drop_missing_values()\n",
    "create_word_frequency_table()\n",
    "split_sentences_to_cells()\n",
    "apply_filter()"
   ]
  },
  {
   "cell_type": "code",
   "execution_count": null,
   "id": "a4446a46",
   "metadata": {},
   "outputs": [],
   "source": [
    "\n",
    "create_word_frequency_table()"
   ]
  },
  {
   "cell_type": "code",
   "execution_count": null,
   "id": "1419daea",
   "metadata": {},
   "outputs": [],
   "source": [
    "\n",
    "split_sentences_to_cells()"
   ]
  },
  {
   "cell_type": "code",
   "execution_count": null,
   "id": "48811232",
   "metadata": {},
   "outputs": [],
   "source": [
    "\n",
    "apply_filter()"
   ]
  },
  {
   "cell_type": "code",
   "execution_count": null,
   "id": "45f6deb9",
   "metadata": {},
   "outputs": [],
   "source": [
    "#theme 1: financeee\n",
    "#financing,investment,money,capital,monetary,fund,cost\n",
    "\n",
    "#theme 2: buildingggg\n",
    "#layout,design,building,architectural,structure,floor, integration,schemes,water,environmental,effect,sustainability,sight,lines\n",
    "\n",
    "#theme 3: Heritage\n",
    "#heritage,culture,tradition,legacy,historical,importance, ancestral,customs,modern,stone,community,space,art,music\n"
   ]
  },
  {
   "cell_type": "code",
   "execution_count": null,
   "id": "b8687b70",
   "metadata": {},
   "outputs": [],
   "source": []
  },
  {
   "cell_type": "code",
   "execution_count": null,
   "id": "5f88d57b",
   "metadata": {},
   "outputs": [],
   "source": []
  }
 ],
 "metadata": {
  "kernelspec": {
   "display_name": "Python 3 (ipykernel)",
   "language": "python",
   "name": "python3"
  },
  "language_info": {
   "codemirror_mode": {
    "name": "ipython",
    "version": 3
   },
   "file_extension": ".py",
   "mimetype": "text/x-python",
   "name": "python",
   "nbconvert_exporter": "python",
   "pygments_lexer": "ipython3",
   "version": "3.9.13"
  }
 },
 "nbformat": 4,
 "nbformat_minor": 5
}
